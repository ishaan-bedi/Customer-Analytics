{
 "cells": [
  {
   "cell_type": "code",
   "execution_count": 1,
   "metadata": {},
   "outputs": [],
   "source": [
    "import pandas as pd\n",
    "import numpy as np\n",
    "from scipy import stats"
   ]
  },
  {
   "cell_type": "code",
   "execution_count": 2,
   "metadata": {},
   "outputs": [],
   "source": [
    "spending=pd.read_csv('fact_spends.csv')\n",
    "customers=pd.read_csv('dim_customers.csv')\n",
    "merged_df = pd.merge(spending, customers, on='customer_id')"
   ]
  },
  {
   "cell_type": "code",
   "execution_count": 3,
   "metadata": {},
   "outputs": [
    {
     "data": {
      "text/plain": [
       "['customer_id',\n",
       " 'month',\n",
       " 'category',\n",
       " 'payment_type',\n",
       " 'spend',\n",
       " 'age_group',\n",
       " 'city',\n",
       " 'occupation',\n",
       " 'gender',\n",
       " 'marital status',\n",
       " 'avg_income']"
      ]
     },
     "execution_count": 3,
     "metadata": {},
     "output_type": "execute_result"
    }
   ],
   "source": [
    "list(merged_df)"
   ]
  },
  {
   "cell_type": "code",
   "execution_count": 4,
   "metadata": {},
   "outputs": [
    {
     "name": "stdout",
     "output_type": "stream",
     "text": [
      "age_group\n",
      "25-34    Rs 203,357,184.00\n",
      "35-45    Rs 190,639,828.00\n",
      "21-24     Rs 68,523,077.00\n",
      "45+       Rs 68,377,666.00\n",
      "Name: spend, dtype: object\n"
     ]
    }
   ],
   "source": [
    "#Total Spending by Age Group:\n",
    "total_spending_by_age = merged_df.groupby('age_group')['spend'].sum().sort_values(ascending=False)\n",
    "print(total_spending_by_age.apply(lambda x: 'Rs {:,.2f}'.format(x)))\n"
   ]
  },
  {
   "cell_type": "code",
   "execution_count": 5,
   "metadata": {},
   "outputs": [
    {
     "name": "stdout",
     "output_type": "stream",
     "text": [
      "age_group\n",
      "35-45    Rs 693.32\n",
      "25-34    Rs 628.48\n",
      "45+      Rs 588.41\n",
      "21-24    Rs 459.10\n",
      "Name: spend, dtype: object\n"
     ]
    }
   ],
   "source": [
    "#Avg Spending per tx by Age Group:\n",
    "avg_spending_by_age = merged_df.groupby('age_group')['spend'].mean().sort_values(ascending=False)\n",
    "print(avg_spending_by_age.apply(lambda x: 'Rs {:,.2f}'.format(x)))"
   ]
  },
  {
   "cell_type": "code",
   "execution_count": 6,
   "metadata": {},
   "outputs": [
    {
     "name": "stdout",
     "output_type": "stream",
     "text": [
      "gender\n",
      "Male      Rs 357,138,037.00\n",
      "Female    Rs 173,759,718.00\n",
      "Name: spend, dtype: object\n"
     ]
    }
   ],
   "source": [
    "#Total Spending by Gender:\n",
    "total_spending_by_gender = merged_df.groupby('gender')['spend'].sum().sort_values(ascending=False)\n",
    "print(total_spending_by_gender.apply(lambda x: 'Rs {:,.2f}'.format(x)))"
   ]
  },
  {
   "cell_type": "code",
   "execution_count": 7,
   "metadata": {},
   "outputs": [
    {
     "name": "stdout",
     "output_type": "stream",
     "text": [
      "gender\n",
      "Male      Rs 636.66\n",
      "Female    Rs 573.37\n",
      "Name: spend, dtype: object\n"
     ]
    }
   ],
   "source": [
    "#Average Spending per Transaction by Gender:\n",
    "avg_spending_per_transaction_gender = merged_df.groupby('gender')['spend'].mean().sort_values(ascending=False)\n",
    "print(avg_spending_per_transaction_gender.apply(lambda x: 'Rs {:,.2f}'.format(x)))"
   ]
  },
  {
   "cell_type": "code",
   "execution_count": 8,
   "metadata": {},
   "outputs": [
    {
     "name": "stdout",
     "output_type": "stream",
     "text": [
      "occupation\n",
      "Salaried IT Employees       Rs 243,720,304.00\n",
      "Business Owners              Rs 88,004,709.00\n",
      "Salaried Other Employees     Rs 87,511,686.00\n",
      "Freelancers                  Rs 75,538,638.00\n",
      "Government Employees         Rs 36,122,418.00\n",
      "Name: spend, dtype: object\n"
     ]
    }
   ],
   "source": [
    "#Total Spending by Occupation:\n",
    "total_spending_by_occupation = merged_df.groupby('occupation')['spend'].sum().sort_values(ascending=False)\n",
    "print(total_spending_by_occupation.apply(lambda x: 'Rs {:,.2f}'.format(x)))"
   ]
  },
  {
   "cell_type": "code",
   "execution_count": 9,
   "metadata": {},
   "outputs": [
    {
     "name": "stdout",
     "output_type": "stream",
     "text": [
      "occupation\n",
      "Salaried IT Employees       Rs 871.97\n",
      "Business Owners             Rs 646.71\n",
      "Salaried Other Employees    Rs 453.69\n",
      "Freelancers                 Rs 446.07\n",
      "Government Employees        Rs 419.13\n",
      "Name: spend, dtype: object\n"
     ]
    }
   ],
   "source": [
    "#Avg Spending per tx by Occupation:\n",
    "mean_spending_by_occupation = merged_df.groupby('occupation')['spend'].mean().sort_values(ascending=False)\n",
    "print(mean_spending_by_occupation.apply(lambda x: 'Rs {:,.2f}'.format(x)))"
   ]
  },
  {
   "cell_type": "code",
   "execution_count": 10,
   "metadata": {},
   "outputs": [
    {
     "name": "stdout",
     "output_type": "stream",
     "text": [
      "age_group  gender\n",
      "25-34      Male      Rs 136,290,216.00\n",
      "35-45      Male      Rs 128,878,788.00\n",
      "25-34      Female     Rs 67,066,968.00\n",
      "35-45      Female     Rs 61,761,040.00\n",
      "45+        Male       Rs 48,017,470.00\n",
      "21-24      Male       Rs 43,951,563.00\n",
      "           Female     Rs 24,571,514.00\n",
      "45+        Female     Rs 20,360,196.00\n",
      "Name: spend, dtype: object\n"
     ]
    }
   ],
   "source": [
    "#Total Spending by Age Group and Gender:\n",
    "total_spending_age_gender = merged_df.groupby(['age_group', 'gender'])['spend'].sum().sort_values(ascending=False)\n",
    "print(total_spending_age_gender.apply(lambda x: 'Rs {:,.2f}'.format(x)))"
   ]
  },
  {
   "cell_type": "code",
   "execution_count": 11,
   "metadata": {},
   "outputs": [
    {
     "name": "stdout",
     "output_type": "stream",
     "text": [
      "age_group  gender\n",
      "35-45      Male      Rs 715.42\n",
      "25-34      Male      Rs 653.18\n",
      "35-45      Female    Rs 651.32\n",
      "45+        Male      Rs 612.41\n",
      "25-34      Female    Rs 583.64\n",
      "45+        Female    Rs 538.63\n",
      "21-24      Male      Rs 468.85\n",
      "           Female    Rs 442.63\n",
      "Name: spend, dtype: object\n"
     ]
    }
   ],
   "source": [
    "#Average Spending by Age Group and Gender:\n",
    "avg_spending_age_gender = merged_df.groupby(['age_group', 'gender'])['spend'].mean().sort_values(ascending=False)\n",
    "print(avg_spending_age_gender.apply(lambda x: 'Rs {:,.2f}'.format(x)))"
   ]
  },
  {
   "cell_type": "code",
   "execution_count": 12,
   "metadata": {},
   "outputs": [
    {
     "name": "stdout",
     "output_type": "stream",
     "text": [
      "category           occupation              \n",
      "Bills              Salaried IT Employees       Rs 45,874,131.00\n",
      "Groceries          Salaried IT Employees       Rs 37,944,382.00\n",
      "Electronics        Salaried IT Employees       Rs 35,662,201.00\n",
      "Health & Wellness  Salaried IT Employees       Rs 32,270,966.00\n",
      "Travel             Salaried IT Employees       Rs 27,212,716.00\n",
      "Food               Salaried IT Employees       Rs 20,848,372.00\n",
      "Entertainment      Salaried IT Employees       Rs 19,063,859.00\n",
      "Bills              Business Owners             Rs 18,890,434.00\n",
      "Apparel            Salaried IT Employees       Rs 17,395,479.00\n",
      "Bills              Salaried Other Employees    Rs 17,141,830.00\n",
      "                   Freelancers                 Rs 15,892,615.00\n",
      "Groceries          Business Owners             Rs 15,432,082.00\n",
      "                   Salaried Other Employees    Rs 14,061,217.00\n",
      "Electronics        Business Owners             Rs 13,666,284.00\n",
      "                   Salaried Other Employees    Rs 12,993,823.00\n",
      "Groceries          Freelancers                 Rs 12,923,620.00\n",
      "Electronics        Freelancers                 Rs 11,768,560.00\n",
      "Health & Wellness  Salaried Other Employees    Rs 11,163,046.00\n",
      "Travel             Business Owners              Rs 9,810,314.00\n",
      "                   Salaried Other Employees     Rs 9,774,481.00\n",
      "Health & Wellness  Business Owners              Rs 9,291,275.00\n",
      "                   Freelancers                  Rs 8,608,025.00\n",
      "Travel             Freelancers                  Rs 8,195,779.00\n",
      "Others             Salaried IT Employees        Rs 7,448,198.00\n",
      "Food               Salaried Other Employees     Rs 7,281,436.00\n",
      "Bills              Government Employees         Rs 7,113,758.00\n",
      "Entertainment      Business Owners              Rs 6,936,727.00\n",
      "Food               Business Owners              Rs 6,895,848.00\n",
      "Entertainment      Salaried Other Employees     Rs 6,687,445.00\n",
      "Food               Freelancers                  Rs 6,015,509.00\n",
      "Groceries          Government Employees         Rs 5,942,460.00\n",
      "Entertainment      Freelancers                  Rs 5,789,267.00\n",
      "Apparel            Salaried Other Employees     Rs 5,747,885.00\n",
      "Electronics        Government Employees         Rs 5,471,352.00\n",
      "Apparel            Business Owners              Rs 4,535,186.00\n",
      "Health & Wellness  Government Employees         Rs 4,266,555.00\n",
      "Travel             Government Employees         Rs 4,230,034.00\n",
      "Apparel            Freelancers                  Rs 4,129,048.00\n",
      "Food               Government Employees         Rs 2,972,305.00\n",
      "Entertainment      Government Employees         Rs 2,811,864.00\n",
      "Others             Salaried Other Employees     Rs 2,660,523.00\n",
      "                   Business Owners              Rs 2,546,559.00\n",
      "Apparel            Government Employees         Rs 2,228,403.00\n",
      "Others             Freelancers                  Rs 2,216,215.00\n",
      "                   Government Employees         Rs 1,085,687.00\n",
      "Name: spend, dtype: object\n"
     ]
    }
   ],
   "source": [
    "#Total Spending by Category and Occupation:\n",
    "total_spending_by_category_occupation = merged_df.groupby(['category', 'occupation'])['spend'].sum().sort_values(ascending=False)\n",
    "print(total_spending_by_category_occupation.apply(lambda x: 'Rs {:,.2f}'.format(x)))"
   ]
  },
  {
   "cell_type": "code",
   "execution_count": 13,
   "metadata": {},
   "outputs": [
    {
     "name": "stdout",
     "output_type": "stream",
     "text": [
      "category           occupation              \n",
      "Bills              Salaried IT Employees       Rs 1,477.14\n",
      "                   Business Owners             Rs 1,249.37\n",
      "Groceries          Salaried IT Employees       Rs 1,221.81\n",
      "Electronics        Salaried IT Employees       Rs 1,148.32\n",
      "Health & Wellness  Salaried IT Employees       Rs 1,039.12\n",
      "Groceries          Business Owners             Rs 1,020.64\n",
      "Electronics        Business Owners               Rs 903.85\n",
      "Travel             Salaried IT Employees         Rs 876.25\n",
      "Bills              Freelancers                   Rs 844.63\n",
      "                   Salaried Other Employees      Rs 799.82\n",
      "                   Government Employees          Rs 742.87\n",
      "Groceries          Freelancers                   Rs 686.84\n",
      "Food               Salaried IT Employees         Rs 671.32\n",
      "Groceries          Salaried Other Employees      Rs 656.09\n",
      "Travel             Business Owners               Rs 648.83\n",
      "Electronics        Freelancers                   Rs 625.45\n",
      "Groceries          Government Employees          Rs 620.56\n",
      "Health & Wellness  Business Owners               Rs 614.50\n",
      "Entertainment      Salaried IT Employees         Rs 613.85\n",
      "Electronics        Salaried Other Employees      Rs 606.28\n",
      "                   Government Employees          Rs 571.36\n",
      "Apparel            Salaried IT Employees         Rs 560.13\n",
      "Health & Wellness  Salaried Other Employees      Rs 520.86\n",
      "Entertainment      Business Owners               Rs 458.78\n",
      "Health & Wellness  Freelancers                   Rs 457.48\n",
      "Food               Business Owners               Rs 456.07\n",
      "Travel             Salaried Other Employees      Rs 456.07\n",
      "Health & Wellness  Government Employees          Rs 445.55\n",
      "Travel             Government Employees          Rs 441.73\n",
      "                   Freelancers                   Rs 435.57\n",
      "Food               Salaried Other Employees      Rs 339.75\n",
      "                   Freelancers                   Rs 319.70\n",
      "Entertainment      Salaried Other Employees      Rs 312.03\n",
      "Food               Government Employees          Rs 310.39\n",
      "Entertainment      Freelancers                   Rs 307.68\n",
      "Apparel            Business Owners               Rs 299.95\n",
      "Entertainment      Government Employees          Rs 293.64\n",
      "Apparel            Salaried Other Employees      Rs 268.19\n",
      "Others             Salaried IT Employees         Rs 239.83\n",
      "Apparel            Government Employees          Rs 232.71\n",
      "                   Freelancers                   Rs 219.44\n",
      "Others             Business Owners               Rs 168.42\n",
      "                   Salaried Other Employees      Rs 124.14\n",
      "                   Freelancers                   Rs 117.78\n",
      "                   Government Employees          Rs 113.38\n",
      "Name: spend, dtype: object\n"
     ]
    }
   ],
   "source": [
    "#Avg Spending by Category and Occupation:\n",
    "avg_spending_by_category_occupation = merged_df.groupby(['category', 'occupation'])['spend'].mean().sort_values(ascending=False)\n",
    "print(avg_spending_by_category_occupation.apply(lambda x: 'Rs {:,.2f}'.format(x)))"
   ]
  }
 ],
 "metadata": {
  "kernelspec": {
   "display_name": "Python 3",
   "language": "python",
   "name": "python3"
  },
  "language_info": {
   "codemirror_mode": {
    "name": "ipython",
    "version": 3
   },
   "file_extension": ".py",
   "mimetype": "text/x-python",
   "name": "python",
   "nbconvert_exporter": "python",
   "pygments_lexer": "ipython3",
   "version": "3.11.4"
  },
  "orig_nbformat": 4
 },
 "nbformat": 4,
 "nbformat_minor": 2
}
